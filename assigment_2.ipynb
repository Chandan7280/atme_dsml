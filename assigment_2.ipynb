{
  "nbformat": 4,
  "nbformat_minor": 0,
  "metadata": {
    "colab": {
      "provenance": [],
      "authorship_tag": "ABX9TyOsDjkU8gLAufaFHYr89a2E",
      "include_colab_link": true
    },
    "kernelspec": {
      "name": "python3",
      "display_name": "Python 3"
    },
    "language_info": {
      "name": "python"
    }
  },
  "cells": [
    {
      "cell_type": "markdown",
      "metadata": {
        "id": "view-in-github",
        "colab_type": "text"
      },
      "source": [
        "<a href=\"https://colab.research.google.com/github/Chandan7280/atme_dsml/blob/main/assigment_2.ipynb\" target=\"_parent\"><img src=\"https://colab.research.google.com/assets/colab-badge.svg\" alt=\"Open In Colab\"/></a>"
      ]
    },
    {
      "cell_type": "code",
      "execution_count": 1,
      "metadata": {
        "colab": {
          "base_uri": "https://localhost:8080/"
        },
        "id": "hhkvnSg3wWtn",
        "outputId": "d151596e-dc27-4b04-80d2-a986f3eb8e69"
      },
      "outputs": [
        {
          "output_type": "stream",
          "name": "stdout",
          "text": [
            "Result of A x B:\n",
            " [[19 22]\n",
            " [43 50]]\n"
          ]
        }
      ],
      "source": [
        "import numpy as np\n",
        "\n",
        "def matrix_multiply(A, B):\n",
        "    \"\"\"\n",
        "    Perform matrix multiplication between two NumPy arrays A and B.\n",
        "\n",
        "    Parameters:\n",
        "    A (np.ndarray): First matrix of shape (m x n)\n",
        "    B (np.ndarray): Second matrix of shape (n x p)\n",
        "\n",
        "    Returns:\n",
        "    np.ndarray: Resulting matrix of shape (m x p)\n",
        "    \"\"\"\n",
        "    # Check matrix compatibility\n",
        "    if A.shape[1] != B.shape[0]:\n",
        "        raise ValueError(\"Number of columns in A must equal number of rows in B.\")\n",
        "\n",
        "    # Perform matrix multiplication\n",
        "    result = np.dot(A, B)\n",
        "    return result\n",
        "\n",
        "# Example usage:\n",
        "A = np.array([[1, 2], [3, 4]])\n",
        "B = np.array([[5, 6], [7, 8]])\n",
        "\n",
        "C = matrix_multiply(A, B)\n",
        "print(\"Result of A x B:\\n\", C)"
      ]
    },
    {
      "cell_type": "code",
      "source": [
        "import numpy as np\n",
        "\n",
        "# Sample 1D dataset (single numerical feature)\n",
        "data = np.array([10, 20, 30, 40, 50])\n",
        "print(\"Original Data:\", data)\n",
        "\n",
        "# ------------------------\n",
        "# Min-Max Scaling Function\n",
        "# ------------------------\n",
        "def min_max_scale(data):\n",
        "    min_val = np.min(data)\n",
        "    max_val = np.max(data)\n",
        "    scaled = (data - min_val) / (max_val - min_val)\n",
        "    return scaled\n",
        "\n",
        "# Apply Min-Max Scaling\n",
        "minmax_scaled = min_max_scale(data)\n",
        "print(\"Min-Max Scaled Data:\", minmax_scaled)\n",
        "\n",
        "# ------------------------\n",
        "# Standardization Function\n",
        "# ------------------------\n",
        "def standardize(data):\n",
        "    mean = np.mean(data)\n",
        "    std = np.std(data)\n",
        "    standardized = (data - mean) / std\n",
        "    return standardized\n",
        "\n",
        "# Apply Standardization\n",
        "standardized_data = standardize(data)\n",
        "print(\"Standardized Data:\", standardized_data)\n"
      ],
      "metadata": {
        "colab": {
          "base_uri": "https://localhost:8080/"
        },
        "id": "tJcqY9l6wsCq",
        "outputId": "16724482-534a-4e4c-83e7-dc58ebd51b27"
      },
      "execution_count": 2,
      "outputs": [
        {
          "output_type": "stream",
          "name": "stdout",
          "text": [
            "Original Data: [10 20 30 40 50]\n",
            "Min-Max Scaled Data: [0.   0.25 0.5  0.75 1.  ]\n",
            "Standardized Data: [-1.41421356 -0.70710678  0.          0.70710678  1.41421356]\n"
          ]
        }
      ]
    }
  ]
}