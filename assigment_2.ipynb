{
  "nbformat": 4,
  "nbformat_minor": 0,
  "metadata": {
    "colab": {
      "provenance": [],
      "authorship_tag": "ABX9TyOoaQpayulhVbu08blRhSEc",
      "include_colab_link": true
    },
    "kernelspec": {
      "name": "python3",
      "display_name": "Python 3"
    },
    "language_info": {
      "name": "python"
    }
  },
  "cells": [
    {
      "cell_type": "markdown",
      "metadata": {
        "id": "view-in-github",
        "colab_type": "text"
      },
      "source": [
        "<a href=\"https://colab.research.google.com/github/Chandan7280/atme_dsml/blob/main/assigment_2.ipynb\" target=\"_parent\"><img src=\"https://colab.research.google.com/assets/colab-badge.svg\" alt=\"Open In Colab\"/></a>"
      ]
    },
    {
      "cell_type": "code",
      "execution_count": 1,
      "metadata": {
        "colab": {
          "base_uri": "https://localhost:8080/"
        },
        "id": "hhkvnSg3wWtn",
        "outputId": "d151596e-dc27-4b04-80d2-a986f3eb8e69"
      },
      "outputs": [
        {
          "output_type": "stream",
          "name": "stdout",
          "text": [
            "Result of A x B:\n",
            " [[19 22]\n",
            " [43 50]]\n"
          ]
        }
      ],
      "source": [
        "import numpy as np\n",
        "\n",
        "def matrix_multiply(A, B):\n",
        "    \"\"\"\n",
        "    Perform matrix multiplication between two NumPy arrays A and B.\n",
        "\n",
        "    Parameters:\n",
        "    A (np.ndarray): First matrix of shape (m x n)\n",
        "    B (np.ndarray): Second matrix of shape (n x p)\n",
        "\n",
        "    Returns:\n",
        "    np.ndarray: Resulting matrix of shape (m x p)\n",
        "    \"\"\"\n",
        "    # Check matrix compatibility\n",
        "    if A.shape[1] != B.shape[0]:\n",
        "        raise ValueError(\"Number of columns in A must equal number of rows in B.\")\n",
        "\n",
        "    # Perform matrix multiplication\n",
        "    result = np.dot(A, B)\n",
        "    return result\n",
        "\n",
        "# Example usage:\n",
        "A = np.array([[1, 2], [3, 4]])\n",
        "B = np.array([[5, 6], [7, 8]])\n",
        "\n",
        "C = matrix_multiply(A, B)\n",
        "print(\"Result of A x B:\\n\", C)"
      ]
    },
    {
      "cell_type": "code",
      "source": [],
      "metadata": {
        "id": "tJcqY9l6wsCq"
      },
      "execution_count": null,
      "outputs": []
    }
  ]
}